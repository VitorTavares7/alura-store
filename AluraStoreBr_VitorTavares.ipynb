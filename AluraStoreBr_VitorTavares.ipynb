{
  "nbformat": 4,
  "nbformat_minor": 0,
  "metadata": {
    "colab": {
      "provenance": []
    },
    "kernelspec": {
      "name": "python3",
      "display_name": "Python 3"
    },
    "language_info": {
      "name": "python"
    }
  },
  "cells": [
    {
      "cell_type": "markdown",
      "source": [
        "### Importação dos dados\n",
        "\n"
      ],
      "metadata": {
        "id": "RhEdWd9YUR6H"
      }
    },
    {
      "cell_type": "code",
      "execution_count": 4,
      "metadata": {
        "colab": {
          "base_uri": "https://localhost:8080/",
          "height": 293
        },
        "id": "T3EvaeQ_INIL",
        "outputId": "acf842e5-24ab-4018-c62a-043b0159d44a"
      },
      "outputs": [
        {
          "output_type": "execute_result",
          "data": {
            "text/plain": [
              "                 Produto Categoria do Produto    Preço      Frete  \\\n",
              "0     Assistente virtual          eletronicos   219.08   9.249790   \n",
              "1         Mesa de jantar               moveis   256.35  11.234305   \n",
              "2      Jogo de tabuleiro           brinquedos   279.51  21.262681   \n",
              "3            Micro-ondas     eletrodomesticos  1009.99  54.667344   \n",
              "4  Cadeira de escritório               moveis   446.99  26.964689   \n",
              "\n",
              "  Data da Compra        Vendedor Local da compra  Avaliação da compra  \\\n",
              "0     16/01/2021     Pedro Gomes              SP                    4   \n",
              "1     18/05/2022  Beatriz Moraes              RJ                    1   \n",
              "2     15/03/2021      João Souza              DF                    1   \n",
              "3     03/05/2022      João Souza              RS                    4   \n",
              "4     07/11/2020   Larissa Alves              MG                    5   \n",
              "\n",
              "  Tipo de pagamento  Quantidade de parcelas    lat    lon  \n",
              "0    cartao_credito                       8 -22.19 -48.79  \n",
              "1    cartao_credito                       4 -22.25 -42.66  \n",
              "2    cartao_credito                       1 -15.83 -47.86  \n",
              "3            boleto                       1 -30.17 -53.50  \n",
              "4            boleto                       1 -18.10 -44.38  "
            ],
            "text/html": [
              "\n",
              "  <div id=\"df-7d64ddf8-83a9-4c5f-a0e9-8a32df26b3be\" class=\"colab-df-container\">\n",
              "    <div>\n",
              "<style scoped>\n",
              "    .dataframe tbody tr th:only-of-type {\n",
              "        vertical-align: middle;\n",
              "    }\n",
              "\n",
              "    .dataframe tbody tr th {\n",
              "        vertical-align: top;\n",
              "    }\n",
              "\n",
              "    .dataframe thead th {\n",
              "        text-align: right;\n",
              "    }\n",
              "</style>\n",
              "<table border=\"1\" class=\"dataframe\">\n",
              "  <thead>\n",
              "    <tr style=\"text-align: right;\">\n",
              "      <th></th>\n",
              "      <th>Produto</th>\n",
              "      <th>Categoria do Produto</th>\n",
              "      <th>Preço</th>\n",
              "      <th>Frete</th>\n",
              "      <th>Data da Compra</th>\n",
              "      <th>Vendedor</th>\n",
              "      <th>Local da compra</th>\n",
              "      <th>Avaliação da compra</th>\n",
              "      <th>Tipo de pagamento</th>\n",
              "      <th>Quantidade de parcelas</th>\n",
              "      <th>lat</th>\n",
              "      <th>lon</th>\n",
              "    </tr>\n",
              "  </thead>\n",
              "  <tbody>\n",
              "    <tr>\n",
              "      <th>0</th>\n",
              "      <td>Assistente virtual</td>\n",
              "      <td>eletronicos</td>\n",
              "      <td>219.08</td>\n",
              "      <td>9.249790</td>\n",
              "      <td>16/01/2021</td>\n",
              "      <td>Pedro Gomes</td>\n",
              "      <td>SP</td>\n",
              "      <td>4</td>\n",
              "      <td>cartao_credito</td>\n",
              "      <td>8</td>\n",
              "      <td>-22.19</td>\n",
              "      <td>-48.79</td>\n",
              "    </tr>\n",
              "    <tr>\n",
              "      <th>1</th>\n",
              "      <td>Mesa de jantar</td>\n",
              "      <td>moveis</td>\n",
              "      <td>256.35</td>\n",
              "      <td>11.234305</td>\n",
              "      <td>18/05/2022</td>\n",
              "      <td>Beatriz Moraes</td>\n",
              "      <td>RJ</td>\n",
              "      <td>1</td>\n",
              "      <td>cartao_credito</td>\n",
              "      <td>4</td>\n",
              "      <td>-22.25</td>\n",
              "      <td>-42.66</td>\n",
              "    </tr>\n",
              "    <tr>\n",
              "      <th>2</th>\n",
              "      <td>Jogo de tabuleiro</td>\n",
              "      <td>brinquedos</td>\n",
              "      <td>279.51</td>\n",
              "      <td>21.262681</td>\n",
              "      <td>15/03/2021</td>\n",
              "      <td>João Souza</td>\n",
              "      <td>DF</td>\n",
              "      <td>1</td>\n",
              "      <td>cartao_credito</td>\n",
              "      <td>1</td>\n",
              "      <td>-15.83</td>\n",
              "      <td>-47.86</td>\n",
              "    </tr>\n",
              "    <tr>\n",
              "      <th>3</th>\n",
              "      <td>Micro-ondas</td>\n",
              "      <td>eletrodomesticos</td>\n",
              "      <td>1009.99</td>\n",
              "      <td>54.667344</td>\n",
              "      <td>03/05/2022</td>\n",
              "      <td>João Souza</td>\n",
              "      <td>RS</td>\n",
              "      <td>4</td>\n",
              "      <td>boleto</td>\n",
              "      <td>1</td>\n",
              "      <td>-30.17</td>\n",
              "      <td>-53.50</td>\n",
              "    </tr>\n",
              "    <tr>\n",
              "      <th>4</th>\n",
              "      <td>Cadeira de escritório</td>\n",
              "      <td>moveis</td>\n",
              "      <td>446.99</td>\n",
              "      <td>26.964689</td>\n",
              "      <td>07/11/2020</td>\n",
              "      <td>Larissa Alves</td>\n",
              "      <td>MG</td>\n",
              "      <td>5</td>\n",
              "      <td>boleto</td>\n",
              "      <td>1</td>\n",
              "      <td>-18.10</td>\n",
              "      <td>-44.38</td>\n",
              "    </tr>\n",
              "  </tbody>\n",
              "</table>\n",
              "</div>\n",
              "    <div class=\"colab-df-buttons\">\n",
              "\n",
              "  <div class=\"colab-df-container\">\n",
              "    <button class=\"colab-df-convert\" onclick=\"convertToInteractive('df-7d64ddf8-83a9-4c5f-a0e9-8a32df26b3be')\"\n",
              "            title=\"Convert this dataframe to an interactive table.\"\n",
              "            style=\"display:none;\">\n",
              "\n",
              "  <svg xmlns=\"http://www.w3.org/2000/svg\" height=\"24px\" viewBox=\"0 -960 960 960\">\n",
              "    <path d=\"M120-120v-720h720v720H120Zm60-500h600v-160H180v160Zm220 220h160v-160H400v160Zm0 220h160v-160H400v160ZM180-400h160v-160H180v160Zm440 0h160v-160H620v160ZM180-180h160v-160H180v160Zm440 0h160v-160H620v160Z\"/>\n",
              "  </svg>\n",
              "    </button>\n",
              "\n",
              "  <style>\n",
              "    .colab-df-container {\n",
              "      display:flex;\n",
              "      gap: 12px;\n",
              "    }\n",
              "\n",
              "    .colab-df-convert {\n",
              "      background-color: #E8F0FE;\n",
              "      border: none;\n",
              "      border-radius: 50%;\n",
              "      cursor: pointer;\n",
              "      display: none;\n",
              "      fill: #1967D2;\n",
              "      height: 32px;\n",
              "      padding: 0 0 0 0;\n",
              "      width: 32px;\n",
              "    }\n",
              "\n",
              "    .colab-df-convert:hover {\n",
              "      background-color: #E2EBFA;\n",
              "      box-shadow: 0px 1px 2px rgba(60, 64, 67, 0.3), 0px 1px 3px 1px rgba(60, 64, 67, 0.15);\n",
              "      fill: #174EA6;\n",
              "    }\n",
              "\n",
              "    .colab-df-buttons div {\n",
              "      margin-bottom: 4px;\n",
              "    }\n",
              "\n",
              "    [theme=dark] .colab-df-convert {\n",
              "      background-color: #3B4455;\n",
              "      fill: #D2E3FC;\n",
              "    }\n",
              "\n",
              "    [theme=dark] .colab-df-convert:hover {\n",
              "      background-color: #434B5C;\n",
              "      box-shadow: 0px 1px 3px 1px rgba(0, 0, 0, 0.15);\n",
              "      filter: drop-shadow(0px 1px 2px rgba(0, 0, 0, 0.3));\n",
              "      fill: #FFFFFF;\n",
              "    }\n",
              "  </style>\n",
              "\n",
              "    <script>\n",
              "      const buttonEl =\n",
              "        document.querySelector('#df-7d64ddf8-83a9-4c5f-a0e9-8a32df26b3be button.colab-df-convert');\n",
              "      buttonEl.style.display =\n",
              "        google.colab.kernel.accessAllowed ? 'block' : 'none';\n",
              "\n",
              "      async function convertToInteractive(key) {\n",
              "        const element = document.querySelector('#df-7d64ddf8-83a9-4c5f-a0e9-8a32df26b3be');\n",
              "        const dataTable =\n",
              "          await google.colab.kernel.invokeFunction('convertToInteractive',\n",
              "                                                    [key], {});\n",
              "        if (!dataTable) return;\n",
              "\n",
              "        const docLinkHtml = 'Like what you see? Visit the ' +\n",
              "          '<a target=\"_blank\" href=https://colab.research.google.com/notebooks/data_table.ipynb>data table notebook</a>'\n",
              "          + ' to learn more about interactive tables.';\n",
              "        element.innerHTML = '';\n",
              "        dataTable['output_type'] = 'display_data';\n",
              "        await google.colab.output.renderOutput(dataTable, element);\n",
              "        const docLink = document.createElement('div');\n",
              "        docLink.innerHTML = docLinkHtml;\n",
              "        element.appendChild(docLink);\n",
              "      }\n",
              "    </script>\n",
              "  </div>\n",
              "\n",
              "\n",
              "<div id=\"df-6a8a00d8-1152-42bb-a63d-e902d810b653\">\n",
              "  <button class=\"colab-df-quickchart\" onclick=\"quickchart('df-6a8a00d8-1152-42bb-a63d-e902d810b653')\"\n",
              "            title=\"Suggest charts\"\n",
              "            style=\"display:none;\">\n",
              "\n",
              "<svg xmlns=\"http://www.w3.org/2000/svg\" height=\"24px\"viewBox=\"0 0 24 24\"\n",
              "     width=\"24px\">\n",
              "    <g>\n",
              "        <path d=\"M19 3H5c-1.1 0-2 .9-2 2v14c0 1.1.9 2 2 2h14c1.1 0 2-.9 2-2V5c0-1.1-.9-2-2-2zM9 17H7v-7h2v7zm4 0h-2V7h2v10zm4 0h-2v-4h2v4z\"/>\n",
              "    </g>\n",
              "</svg>\n",
              "  </button>\n",
              "\n",
              "<style>\n",
              "  .colab-df-quickchart {\n",
              "      --bg-color: #E8F0FE;\n",
              "      --fill-color: #1967D2;\n",
              "      --hover-bg-color: #E2EBFA;\n",
              "      --hover-fill-color: #174EA6;\n",
              "      --disabled-fill-color: #AAA;\n",
              "      --disabled-bg-color: #DDD;\n",
              "  }\n",
              "\n",
              "  [theme=dark] .colab-df-quickchart {\n",
              "      --bg-color: #3B4455;\n",
              "      --fill-color: #D2E3FC;\n",
              "      --hover-bg-color: #434B5C;\n",
              "      --hover-fill-color: #FFFFFF;\n",
              "      --disabled-bg-color: #3B4455;\n",
              "      --disabled-fill-color: #666;\n",
              "  }\n",
              "\n",
              "  .colab-df-quickchart {\n",
              "    background-color: var(--bg-color);\n",
              "    border: none;\n",
              "    border-radius: 50%;\n",
              "    cursor: pointer;\n",
              "    display: none;\n",
              "    fill: var(--fill-color);\n",
              "    height: 32px;\n",
              "    padding: 0;\n",
              "    width: 32px;\n",
              "  }\n",
              "\n",
              "  .colab-df-quickchart:hover {\n",
              "    background-color: var(--hover-bg-color);\n",
              "    box-shadow: 0 1px 2px rgba(60, 64, 67, 0.3), 0 1px 3px 1px rgba(60, 64, 67, 0.15);\n",
              "    fill: var(--button-hover-fill-color);\n",
              "  }\n",
              "\n",
              "  .colab-df-quickchart-complete:disabled,\n",
              "  .colab-df-quickchart-complete:disabled:hover {\n",
              "    background-color: var(--disabled-bg-color);\n",
              "    fill: var(--disabled-fill-color);\n",
              "    box-shadow: none;\n",
              "  }\n",
              "\n",
              "  .colab-df-spinner {\n",
              "    border: 2px solid var(--fill-color);\n",
              "    border-color: transparent;\n",
              "    border-bottom-color: var(--fill-color);\n",
              "    animation:\n",
              "      spin 1s steps(1) infinite;\n",
              "  }\n",
              "\n",
              "  @keyframes spin {\n",
              "    0% {\n",
              "      border-color: transparent;\n",
              "      border-bottom-color: var(--fill-color);\n",
              "      border-left-color: var(--fill-color);\n",
              "    }\n",
              "    20% {\n",
              "      border-color: transparent;\n",
              "      border-left-color: var(--fill-color);\n",
              "      border-top-color: var(--fill-color);\n",
              "    }\n",
              "    30% {\n",
              "      border-color: transparent;\n",
              "      border-left-color: var(--fill-color);\n",
              "      border-top-color: var(--fill-color);\n",
              "      border-right-color: var(--fill-color);\n",
              "    }\n",
              "    40% {\n",
              "      border-color: transparent;\n",
              "      border-right-color: var(--fill-color);\n",
              "      border-top-color: var(--fill-color);\n",
              "    }\n",
              "    60% {\n",
              "      border-color: transparent;\n",
              "      border-right-color: var(--fill-color);\n",
              "    }\n",
              "    80% {\n",
              "      border-color: transparent;\n",
              "      border-right-color: var(--fill-color);\n",
              "      border-bottom-color: var(--fill-color);\n",
              "    }\n",
              "    90% {\n",
              "      border-color: transparent;\n",
              "      border-bottom-color: var(--fill-color);\n",
              "    }\n",
              "  }\n",
              "</style>\n",
              "\n",
              "  <script>\n",
              "    async function quickchart(key) {\n",
              "      const quickchartButtonEl =\n",
              "        document.querySelector('#' + key + ' button');\n",
              "      quickchartButtonEl.disabled = true;  // To prevent multiple clicks.\n",
              "      quickchartButtonEl.classList.add('colab-df-spinner');\n",
              "      try {\n",
              "        const charts = await google.colab.kernel.invokeFunction(\n",
              "            'suggestCharts', [key], {});\n",
              "      } catch (error) {\n",
              "        console.error('Error during call to suggestCharts:', error);\n",
              "      }\n",
              "      quickchartButtonEl.classList.remove('colab-df-spinner');\n",
              "      quickchartButtonEl.classList.add('colab-df-quickchart-complete');\n",
              "    }\n",
              "    (() => {\n",
              "      let quickchartButtonEl =\n",
              "        document.querySelector('#df-6a8a00d8-1152-42bb-a63d-e902d810b653 button');\n",
              "      quickchartButtonEl.style.display =\n",
              "        google.colab.kernel.accessAllowed ? 'block' : 'none';\n",
              "    })();\n",
              "  </script>\n",
              "</div>\n",
              "\n",
              "    </div>\n",
              "  </div>\n"
            ],
            "application/vnd.google.colaboratory.intrinsic+json": {
              "type": "dataframe",
              "variable_name": "loja",
              "summary": "{\n  \"name\": \"loja\",\n  \"rows\": 2359,\n  \"fields\": [\n    {\n      \"column\": \"Produto\",\n      \"properties\": {\n        \"dtype\": \"category\",\n        \"num_unique_values\": 51,\n        \"samples\": [\n          \"Viol\\u00e3o\",\n          \"Bola de basquete\",\n          \"Smartwatch\"\n        ],\n        \"semantic_type\": \"\",\n        \"description\": \"\"\n      }\n    },\n    {\n      \"column\": \"Categoria do Produto\",\n      \"properties\": {\n        \"dtype\": \"category\",\n        \"num_unique_values\": 8,\n        \"samples\": [\n          \"moveis\",\n          \"esporte e lazer\",\n          \"eletronicos\"\n        ],\n        \"semantic_type\": \"\",\n        \"description\": \"\"\n      }\n    },\n    {\n      \"column\": \"Pre\\u00e7o\",\n      \"properties\": {\n        \"dtype\": \"number\",\n        \"std\": 819.5827782539145,\n        \"min\": 10.07,\n        \"max\": 3969.38,\n        \"num_unique_values\": 2315,\n        \"samples\": [\n          446.11,\n          107.31,\n          65.86\n        ],\n        \"semantic_type\": \"\",\n        \"description\": \"\"\n      }\n    },\n    {\n      \"column\": \"Frete\",\n      \"properties\": {\n        \"dtype\": \"number\",\n        \"std\": 43.814183327408166,\n        \"min\": 0.0,\n        \"max\": 214.3770604781,\n        \"num_unique_values\": 2149,\n        \"samples\": [\n          83.815279607,\n          16.069664669,\n          14.0344876928\n        ],\n        \"semantic_type\": \"\",\n        \"description\": \"\"\n      }\n    },\n    {\n      \"column\": \"Data da Compra\",\n      \"properties\": {\n        \"dtype\": \"object\",\n        \"num_unique_values\": 1018,\n        \"samples\": [\n          \"15/09/2022\",\n          \"03/06/2020\",\n          \"06/11/2021\"\n        ],\n        \"semantic_type\": \"\",\n        \"description\": \"\"\n      }\n    },\n    {\n      \"column\": \"Vendedor\",\n      \"properties\": {\n        \"dtype\": \"category\",\n        \"num_unique_values\": 14,\n        \"samples\": [\n          \"Juliana Costa\",\n          \"Mariana Ferreira\",\n          \"Pedro Gomes\"\n        ],\n        \"semantic_type\": \"\",\n        \"description\": \"\"\n      }\n    },\n    {\n      \"column\": \"Local da compra\",\n      \"properties\": {\n        \"dtype\": \"category\",\n        \"num_unique_values\": 26,\n        \"samples\": [\n          \"TO\",\n          \"RN\",\n          \"SP\"\n        ],\n        \"semantic_type\": \"\",\n        \"description\": \"\"\n      }\n    },\n    {\n      \"column\": \"Avalia\\u00e7\\u00e3o da compra\",\n      \"properties\": {\n        \"dtype\": \"number\",\n        \"std\": 1,\n        \"min\": 1,\n        \"max\": 5,\n        \"num_unique_values\": 5,\n        \"samples\": [\n          1,\n          2,\n          5\n        ],\n        \"semantic_type\": \"\",\n        \"description\": \"\"\n      }\n    },\n    {\n      \"column\": \"Tipo de pagamento\",\n      \"properties\": {\n        \"dtype\": \"category\",\n        \"num_unique_values\": 4,\n        \"samples\": [\n          \"boleto\",\n          \"cartao_debito\",\n          \"cartao_credito\"\n        ],\n        \"semantic_type\": \"\",\n        \"description\": \"\"\n      }\n    },\n    {\n      \"column\": \"Quantidade de parcelas\",\n      \"properties\": {\n        \"dtype\": \"number\",\n        \"std\": 2,\n        \"min\": 1,\n        \"max\": 24,\n        \"num_unique_values\": 15,\n        \"samples\": [\n          7,\n          14,\n          8\n        ],\n        \"semantic_type\": \"\",\n        \"description\": \"\"\n      }\n    },\n    {\n      \"column\": \"lat\",\n      \"properties\": {\n        \"dtype\": \"number\",\n        \"std\": 5.372399916530833,\n        \"min\": -30.17,\n        \"max\": 1.41,\n        \"num_unique_values\": 26,\n        \"samples\": [\n          -9.46,\n          -5.81,\n          -22.19\n        ],\n        \"semantic_type\": \"\",\n        \"description\": \"\"\n      }\n    },\n    {\n      \"column\": \"lon\",\n      \"properties\": {\n        \"dtype\": \"number\",\n        \"std\": 4.183180020544179,\n        \"min\": -70.55,\n        \"max\": -36.59,\n        \"num_unique_values\": 26,\n        \"samples\": [\n          -48.26,\n          -36.59,\n          -48.79\n        ],\n        \"semantic_type\": \"\",\n        \"description\": \"\"\n      }\n    }\n  ]\n}"
            }
          },
          "metadata": {},
          "execution_count": 4
        }
      ],
      "source": [
        "import pandas as pd\n",
        "\n",
        "url = \"https://raw.githubusercontent.com/alura-es-cursos/challenge1-data-science/refs/heads/main/base-de-dados-challenge-1/loja_1.csv\"\n",
        "url2 = \"https://raw.githubusercontent.com/alura-es-cursos/challenge1-data-science/refs/heads/main/base-de-dados-challenge-1/loja_2.csv\"\n",
        "url3 = \"https://raw.githubusercontent.com/alura-es-cursos/challenge1-data-science/refs/heads/main/base-de-dados-challenge-1/loja_3.csv\"\n",
        "url4 = \"https://raw.githubusercontent.com/alura-es-cursos/challenge1-data-science/refs/heads/main/base-de-dados-challenge-1/loja_4.csv\"\n",
        "\n",
        "loja = pd.read_csv(url)\n",
        "loja2 = pd.read_csv(url2)\n",
        "loja3 = pd.read_csv(url3)\n",
        "loja4 = pd.read_csv(url4)\n",
        "\n",
        "loja.head()"
      ]
    },
    {
      "cell_type": "markdown",
      "source": [
        "#1. Análise do faturamento\n"
      ],
      "metadata": {
        "id": "X62IW3KFUIYm"
      }
    },
    {
      "cell_type": "code",
      "source": [
        "precos_lojas = [loja[\"Preço\"], loja2[\"Preço\"], loja3[\"Preço\"], loja4[\"Preço\"]]"
      ],
      "metadata": {
        "id": "xykobSftV64I"
      },
      "execution_count": 19,
      "outputs": []
    },
    {
      "cell_type": "code",
      "source": [
        "faturamento_lojas= []\n",
        "for i, precos in enumerate(precos_lojas, start=1):\n",
        "  faturamento = sum(precos)\n",
        "  faturamento_lojas.append(faturamento)\n",
        "  print(f'faturamento da loja{i}: {round(faturamento,2)}')\n"
      ],
      "metadata": {
        "id": "KDyr8E71V3m-",
        "colab": {
          "base_uri": "https://localhost:8080/"
        },
        "outputId": "89084ede-eedf-49b1-a0bb-1a28dd00dd67"
      },
      "execution_count": 20,
      "outputs": [
        {
          "output_type": "stream",
          "name": "stdout",
          "text": [
            "faturamento da loja1: 1534509.12\n",
            "faturamento da loja2: 1488459.06\n",
            "faturamento da loja3: 1464025.03\n",
            "faturamento da loja4: 1384497.58\n"
          ]
        }
      ]
    },
    {
      "cell_type": "code",
      "source": [
        "!pip install matplotlib"
      ],
      "metadata": {
        "colab": {
          "base_uri": "https://localhost:8080/"
        },
        "id": "SWwXg17eV0kf",
        "outputId": "c3f719fa-1e8f-4c30-faba-91a65e959180"
      },
      "execution_count": 11,
      "outputs": [
        {
          "output_type": "stream",
          "name": "stdout",
          "text": [
            "Requirement already satisfied: matplotlib in /usr/local/lib/python3.11/dist-packages (3.10.0)\n",
            "Requirement already satisfied: contourpy>=1.0.1 in /usr/local/lib/python3.11/dist-packages (from matplotlib) (1.3.1)\n",
            "Requirement already satisfied: cycler>=0.10 in /usr/local/lib/python3.11/dist-packages (from matplotlib) (0.12.1)\n",
            "Requirement already satisfied: fonttools>=4.22.0 in /usr/local/lib/python3.11/dist-packages (from matplotlib) (4.57.0)\n",
            "Requirement already satisfied: kiwisolver>=1.3.1 in /usr/local/lib/python3.11/dist-packages (from matplotlib) (1.4.8)\n",
            "Requirement already satisfied: numpy>=1.23 in /usr/local/lib/python3.11/dist-packages (from matplotlib) (2.0.2)\n",
            "Requirement already satisfied: packaging>=20.0 in /usr/local/lib/python3.11/dist-packages (from matplotlib) (24.2)\n",
            "Requirement already satisfied: pillow>=8 in /usr/local/lib/python3.11/dist-packages (from matplotlib) (11.1.0)\n",
            "Requirement already satisfied: pyparsing>=2.3.1 in /usr/local/lib/python3.11/dist-packages (from matplotlib) (3.2.3)\n",
            "Requirement already satisfied: python-dateutil>=2.7 in /usr/local/lib/python3.11/dist-packages (from matplotlib) (2.8.2)\n",
            "Requirement already satisfied: six>=1.5 in /usr/local/lib/python3.11/dist-packages (from python-dateutil>=2.7->matplotlib) (1.17.0)\n"
          ]
        }
      ]
    },
    {
      "cell_type": "code",
      "source": [
        "import matplotlib.pyplot as plt\n",
        "lojas = ['loja1', 'loja2', 'loja3', 'loja4']\n",
        "plt.bar(lojas, faturamento_lojas)\n",
        "plt.title('Faturamento Total de cada Loja', fontsize=14)\n",
        "plt.xlabel('Lojas', fontsize=12)\n",
        "plt.ylabel('Faturamento', fontsize=12)\n",
        "\n",
        "plt.show()"
      ],
      "metadata": {
        "colab": {
          "base_uri": "https://localhost:8080/",
          "height": 477
        },
        "id": "Yil4FB-EV3I2",
        "outputId": "d3822a0e-398c-4474-cbd0-d1db2f1f2de5"
      },
      "execution_count": 31,
      "outputs": [
        {
          "output_type": "display_data",
          "data": {
            "text/plain": [
              "<Figure size 640x480 with 1 Axes>"
            ],
            "image/png": "[encoded data removed]"
          },
          "metadata": {}
        }
      ]
    },
    {
      "cell_type": "code",
      "source": [
        "porcentagem_faturamento = []\n",
        "for i in range(len(faturamento_lojas)):\n",
        "  porcentagem = (100 * faturamento_lojas[i]) / sum(faturamento_lojas)\n",
        "  porcentagem_faturamento.append(round(porcentagem,1))\n",
        "\n",
        "porcentagem_faturamento\n",
        "\n",
        "plt.pie(porcentagem_faturamento, labels=lojas, autopct='%1.1f%%')\n",
        "plt.title('Percentual de faturamento em relação ao total de faturamento')\n",
        "plt.show()\n"
      ],
      "metadata": {
        "colab": {
          "base_uri": "https://localhost:8080/",
          "height": 428
        },
        "id": "6G0ZZAfMei0T",
        "outputId": "12a97676-feb7-492d-83aa-c396dad5e1af"
      },
      "execution_count": 53,
      "outputs": [
        {
          "output_type": "display_data",
          "data": {
            "text/plain": [
              "<Figure size 640x480 with 1 Axes>"
            ],
            "image/png": "[encoded data removed]"
          },
          "metadata": {}
        }
      ]
    },
    {
      "cell_type": "markdown",
      "source": [
        "# 2. Vendas por Categoria\n"
      ],
      "metadata": {
        "id": "2V_vcAPzWZmR"
      }
    },
    {
      "cell_type": "code",
      "source": [
        "nome_categorias = list(set(loja['Categoria do Produto']))\n",
        "categorias_lojas = [list(loja['Categoria do Produto']), list(loja2['Categoria do Produto']), list(loja3['Categoria do Produto']), list(loja4['Categoria do Produto'])]"
      ],
      "metadata": {
        "id": "A34YupIuYhfF"
      },
      "execution_count": 44,
      "outputs": []
    },
    {
      "cell_type": "code",
      "source": [
        "total_vendas_categorias = []\n",
        "for categoria in categorias_lojas:\n",
        "  vendas_por_categoria = [categoria.count(nome) for nome in nome_categorias]\n",
        "  total_vendas_categorias.append(vendas_por_categoria)\n",
        "\n",
        "print('Vendas por categorias')\n",
        "for i, vendas in enumerate(total_vendas_categorias):\n",
        "  print(f'loja{i+1}')\n",
        "  for j, nome in enumerate(nome_categorias):\n",
        "    print(f'Categoria:{nome}\\nVendas da Categoria:{total_vendas_categorias[i][j]}')"
      ],
      "metadata": {
        "id": "dNYTn9Rpt5dH",
        "colab": {
          "base_uri": "https://localhost:8080/"
        },
        "outputId": "fb1ae337-d987-4ce7-e39c-7e912bcc9f3c",
        "collapsed": true
      },
      "execution_count": 43,
      "outputs": [
        {
          "output_type": "stream",
          "name": "stdout",
          "text": [
            "Vendas por categorias\n",
            "loja1\n",
            "Categoria:eletronicos\n",
            "Vendas da Categoria:448\n",
            "Categoria:eletrodomesticos\n",
            "Vendas da Categoria:312\n",
            "Categoria:instrumentos musicais\n",
            "Vendas da Categoria:182\n",
            "Categoria:brinquedos\n",
            "Vendas da Categoria:324\n",
            "Categoria:livros\n",
            "Vendas da Categoria:173\n",
            "Categoria:utilidades domesticas\n",
            "Vendas da Categoria:171\n",
            "Categoria:moveis\n",
            "Vendas da Categoria:465\n",
            "Categoria:esporte e lazer\n",
            "Vendas da Categoria:284\n",
            "loja2\n",
            "Categoria:eletronicos\n",
            "Vendas da Categoria:422\n",
            "Categoria:eletrodomesticos\n",
            "Vendas da Categoria:305\n",
            "Categoria:instrumentos musicais\n",
            "Vendas da Categoria:224\n",
            "Categoria:brinquedos\n",
            "Vendas da Categoria:313\n",
            "Categoria:livros\n",
            "Vendas da Categoria:197\n",
            "Categoria:utilidades domesticas\n",
            "Vendas da Categoria:181\n",
            "Categoria:moveis\n",
            "Vendas da Categoria:442\n",
            "Categoria:esporte e lazer\n",
            "Vendas da Categoria:275\n",
            "loja3\n",
            "Categoria:eletronicos\n",
            "Vendas da Categoria:451\n",
            "Categoria:eletrodomesticos\n",
            "Vendas da Categoria:278\n",
            "Categoria:instrumentos musicais\n",
            "Vendas da Categoria:177\n",
            "Categoria:brinquedos\n",
            "Vendas da Categoria:315\n",
            "Categoria:livros\n",
            "Vendas da Categoria:185\n",
            "Categoria:utilidades domesticas\n",
            "Vendas da Categoria:177\n",
            "Categoria:moveis\n",
            "Vendas da Categoria:499\n",
            "Categoria:esporte e lazer\n",
            "Vendas da Categoria:277\n",
            "loja4\n",
            "Categoria:eletronicos\n",
            "Vendas da Categoria:451\n",
            "Categoria:eletrodomesticos\n",
            "Vendas da Categoria:254\n",
            "Categoria:instrumentos musicais\n",
            "Vendas da Categoria:170\n",
            "Categoria:brinquedos\n",
            "Vendas da Categoria:338\n",
            "Categoria:livros\n",
            "Vendas da Categoria:187\n",
            "Categoria:utilidades domesticas\n",
            "Vendas da Categoria:201\n",
            "Categoria:moveis\n",
            "Vendas da Categoria:480\n",
            "Categoria:esporte e lazer\n",
            "Vendas da Categoria:277\n"
          ]
        }
      ]
    },
    {
      "cell_type": "markdown",
      "source": [
        "# 3. Média de Avaliação das Lojas"
      ],
      "metadata": {
        "id": "Rq6tU_xSY3jk"
      }
    },
    {
      "cell_type": "code",
      "source": [
        "avaliacao_lojas = [list(loja['Avaliação da compra']), list(loja2['Avaliação da compra']), list(loja3['Avaliação da compra']), list(loja4['Avaliação da compra'])]\n"
      ],
      "metadata": {
        "id": "bh3jjjJwY5MU"
      },
      "execution_count": 35,
      "outputs": []
    },
    {
      "cell_type": "code",
      "source": [
        "def medias_avaliacao(lista_avaliacoes: list) -> float:\n",
        "  media = sum(lista_avaliacoes) / len(lista_avaliacoes)\n",
        "  return round(media,2)\n",
        "\n",
        "medias_avaliacoes = [medias_avaliacao(lista_avaliacoes_loja) for lista_avaliacoes_loja in avaliacao_lojas]\n",
        "\n",
        "for i in range(len(medias_avaliacoes)):\n",
        "  print(f'Média das Avaliações dos clientes da loja{i+1}: {medias_avaliacoes[i]}')"
      ],
      "metadata": {
        "id": "I0KkjPoTY88F",
        "colab": {
          "base_uri": "https://localhost:8080/"
        },
        "outputId": "43af3646-9219-49d7-abdf-055af5e33bba"
      },
      "execution_count": 36,
      "outputs": [
        {
          "output_type": "stream",
          "name": "stdout",
          "text": [
            "Média das Avaliações dos clientes da loja1: 3.98\n",
            "Média das Avaliações dos clientes da loja2: 4.04\n",
            "Média das Avaliações dos clientes da loja3: 4.05\n",
            "Média das Avaliações dos clientes da loja4: 4.0\n"
          ]
        }
      ]
    },
    {
      "cell_type": "markdown",
      "source": [
        "# 4. Produtos Mais e Menos Vendidos"
      ],
      "metadata": {
        "id": "DmNp1KPBZCm-"
      }
    },
    {
      "cell_type": "code",
      "source": [
        "produtos_lojas = [list(loja['Produto']),list(loja2['Produto']),list(loja3['Produto']),list(loja4['Produto'])]"
      ],
      "metadata": {
        "id": "qoyjqijQZHfF"
      },
      "execution_count": null,
      "outputs": []
    },
    {
      "cell_type": "code",
      "source": [
        "def contagem_produtos(lista_produtos):\n",
        "  nome_produtos = list(set(lista_produtos))\n",
        "  quantidade_vendididos = {nome: lista_produtos.count(nome) for nome in nome_produtos}\n",
        "  return quantidade_vendididos\n",
        "\n",
        "for i in range(len(produtos_lojas)):\n",
        "  quantidade_vendidos = contagem_produtos(produtos_lojas[i])\n",
        "  mais_vendido = max(quantidade_vendidos, key=quantidade_vendidos.get)\n",
        "  menos_vendido = min(quantidade_vendidos, key=quantidade_vendidos.get)\n",
        "  print(f'loja{i+1} ')\n",
        "  print(f'produto mais vendido: {mais_vendido}')\n",
        "  print(f'produto menos vendido: {menos_vendido}')\n"
      ],
      "metadata": {
        "id": "0Sw3sd4IZIGW",
        "colab": {
          "base_uri": "https://localhost:8080/"
        },
        "outputId": "a84890e2-6c79-4f5f-d88a-95c1ff66b698"
      },
      "execution_count": null,
      "outputs": [
        {
          "output_type": "stream",
          "name": "stdout",
          "text": [
            "loja1 \n",
            "produto mais vendido: Micro-ondas\n",
            "produto menos vendido: Celular ABXY\n",
            "loja2 \n",
            "produto mais vendido: Iniciando em programação\n",
            "produto menos vendido: Jogo de tabuleiro\n",
            "loja3 \n",
            "produto mais vendido: Kit banquetas\n",
            "produto menos vendido: Blocos de montar\n",
            "loja4 \n",
            "produto mais vendido: Cama box\n",
            "produto menos vendido: Guitarra\n"
          ]
        }
      ]
    },
    {
      "cell_type": "markdown",
      "source": [
        "# 5. Frete Médio por Loja\n"
      ],
      "metadata": {
        "id": "Fl0cGi3bZKqU"
      }
    },
    {
      "cell_type": "code",
      "source": [
        "fretes_lojas = [list(loja['Frete']), list(loja2['Frete']), list(loja3['Frete']), list(loja4['Frete'])]"
      ],
      "metadata": {
        "id": "S2JeaCykZNy9"
      },
      "execution_count": 6,
      "outputs": []
    },
    {
      "cell_type": "code",
      "source": [
        "def media_frete(lista_fretes: list) -> float:\n",
        "  media = sum(lista_fretes) / len(lista_fretes)\n",
        "  return round(media,2)\n",
        "\n",
        "valor_medio_frete = [media_frete(lista_fretes) for lista_fretes in fretes_lojas]\n",
        "\n",
        "for i in range(len(valor_medio_frete)):\n",
        "  print(f'Média dos valores dos fretes da loja{i+1}: R${valor_medio_frete[i]}')"
      ],
      "metadata": {
        "id": "0tSdCie9ZQlt",
        "colab": {
          "base_uri": "https://localhost:8080/"
        },
        "outputId": "e727836b-aba5-4168-ce32-c669bb74b6cb"
      },
      "execution_count": 37,
      "outputs": [
        {
          "output_type": "stream",
          "name": "stdout",
          "text": [
            "Média dos valores dos fretes da loja1: R$34.69\n",
            "Média dos valores dos fretes da loja2: R$33.62\n",
            "Média dos valores dos fretes da loja3: R$33.07\n",
            "Média dos valores dos fretes da loja4: R$31.28\n"
          ]
        }
      ]
    },
    {
      "cell_type": "code",
      "source": [
        "plt.barh(lojas, valor_medio_frete)\n",
        "plt.title('Média de Frete por Loja (Horizontal)')\n",
        "plt.xlabel('Média do Frete')\n",
        "plt.ylabel('Lojas')\n",
        "plt.show()"
      ],
      "metadata": {
        "colab": {
          "base_uri": "https://localhost:8080/",
          "height": 472
        },
        "id": "msTpckTWd0l9",
        "outputId": "18f88e42-65d0-4757-9e50-99d83fe6a546"
      },
      "execution_count": 38,
      "outputs": [
        {
          "output_type": "display_data",
          "data": {
            "text/plain": [
              "<Figure size 640x480 with 1 Axes>"
            ],
            "image/png": "[encoded data removed]"
          },
          "metadata": {}
        }
      ]
    },
    {
      "cell_type": "markdown",
      "source": [
        "# Reltório Final\n"
      ],
      "metadata": {
        "id": "etqREeKTkH8x"
      }
    },
    {
      "cell_type": "markdown",
      "source": [
        "# 📊 Relatório Comparativo de Performance das Lojas\n",
        "\n",
        "## 📝 Introdução\n",
        "\n",
        "O presente relatório tem como objetivo realizar uma análise comparativa entre quatro lojas, com base em indicadores-chave de desempenho: **faturamento, avaliação média dos clientes, valor médio do frete**, e **perfil dos produtos mais e menos vendidos**. A partir dessa análise, buscamos determinar qual loja se apresenta como a **melhor candidata para venda**, considerando seu desempenho atual e seu potencial estratégico, além de identificar qual loja tem o desempenho mais fraco.\n",
        "\n",
        "---\n",
        "\n",
        "## 📈 Análise dos Indicadores\n",
        "\n",
        "### 1. **Faturamento Total**\n",
        "\n",
        "| Loja   | Faturamento (R$)     |\n",
        "|--------|----------------------|\n",
        "| **Loja 1** | **1.534.509,12** ✅ |\n",
        "| Loja 2 | 1.488.459,06         |\n",
        "| Loja 3 | 1.464.025,03         |\n",
        "| **Loja 4** | **1.384.497,58** ❌ |\n",
        "\n",
        "> A Loja 1 lidera com folga em faturamento, demonstrando maior capacidade de geração de receita. A Loja 4 é a que menos fatura.\n",
        "\n",
        "---\n",
        "\n",
        "### 2. **Média das Avaliações dos Clientes**\n",
        "\n",
        "| Loja   | Avaliação Média (⭐)  |\n",
        "|--------|----------------------|\n",
        "| **Loja 3** | **4.05** ✅         |\n",
        "| Loja 2 | 4.04                |\n",
        "| Loja 4 | 4.00                |\n",
        "| **Loja 1** | **3.98** ❌         |\n",
        "\n",
        "> A Loja 3 tem a melhor avaliação média dos clientes, o que sugere uma boa experiência de compra. A Loja 1 tem a menor média, embora ainda próxima das demais.\n",
        "\n",
        "---\n",
        "\n",
        "### 3. **Valor Médio do Frete**\n",
        "\n",
        "| Loja   | Frete Médio (R$)     |\n",
        "|--------|----------------------|\n",
        "| **Loja 4** | **31,28** ✅         |\n",
        "| Loja 3 | 33,07                |\n",
        "| Loja 2 | 33,62                |\n",
        "| **Loja 1** | **34,69** ❌         |\n",
        "\n",
        "> A Loja 4 possui o frete mais acessível, enquanto a Loja 1 apresenta o maior custo de entrega — um ponto de atenção, embora compensado pelo seu faturamento elevado.\n",
        "\n",
        "---\n",
        "\n",
        "### 4. **Análise dos Produtos em Destaque**\n",
        "\n",
        "| Loja   | Mais Vendido       | Menos Vendido        |\n",
        "|--------|---------------------|----------------------|\n",
        "| Loja 1 | Micro-ondas         | Celular ABXY         |\n",
        "| Loja 2 | Livro técnico       | Jogo de tabuleiro    |\n",
        "| Loja 3 | Kit de banquetas    | Blocos de montar     |\n",
        "| Loja 4 | Cama box            | Guitarra             |\n",
        "\n",
        "> A Loja 1 destaca-se com produtos de ticket médio relevante como micro-ondas e móveis. A Loja 4 teve como produto menos vendido uma guitarra — um item de valor alto e nichado, que pode estar desalinhado com o perfil de consumo.\n",
        "\n",
        "---\n",
        "\n",
        "## ✅ Conclusão e Recomendação Estratégica\n",
        "\n",
        "### 🟢 Melhor Loja para Venda: **Loja 1**\n",
        "\n",
        "A **Loja 1** se posiciona como a melhor candidata à venda por apresentar um conjunto sólido de atributos comerciais:\n",
        "\n",
        "1. **Desempenho Financeiro Superior**  \n",
        "   Liderança em faturamento (R$ 1.534.509,12), evidenciando forte presença de mercado e capacidade de conversão em vendas.\n",
        "\n",
        "2. **Mix de Produtos com Alta Demanda**  \n",
        "   Forte atuação em categorias de alto giro como móveis, eletrônicos e brinquedos, o que garante resiliência e diversificação nas vendas.\n",
        "\n",
        "3. **Alto Potencial de Valorização**  \n",
        "   Apesar de ter a média de avaliação mais baixa (3.98) e frete mais caro, esses são pontos facilmente ajustáveis, especialmente se a loja for integrada a uma operação com logística mais eficiente e estratégias de melhoria no atendimento ao cliente.\n",
        "\n",
        "**Conclusão:**  \n",
        "Com uma base financeira robusta e estrutura de vendas bem estabelecida, a Loja 1 é a **mais atrativa para venda**. Pequenos ajustes podem elevar ainda mais sua lucratividade e atratividade para investidores.\n",
        "\n",
        "---\n",
        "\n",
        "### 🔴 Loja com Pior Desempenho: **Loja 4**\n",
        "\n",
        "A **Loja 4** apresenta os sinais mais fracos entre as quatro analisadas:\n",
        "\n",
        "- Menor faturamento absoluto.\n",
        "- Apesar do menor frete, isso não se converteu em vantagem competitiva.\n",
        "- Avaliação mediana e ausência de liderança em qualquer critério estratégico.\n",
        "- Indícios de sortimento desalinhado (produto menos vendido: guitarra).\n",
        "\n",
        "**Conclusão:**  \n",
        "A Loja 4 demonstra **baixo desempenho financeiro** e **fraca tração de mercado**, sendo a **menos indicada para venda imediata** e, caso permaneça em operação, requer uma revisão estratégica mais profunda.\n"
      ],
      "metadata": {
        "id": "D2nhg8EskMWZ"
      }
    }
  ]
}